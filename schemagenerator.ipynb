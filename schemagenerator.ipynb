{
 "cells": [
  {
   "cell_type": "code",
   "execution_count": 4,
   "metadata": {
    "dotnet_interactive": {
     "language": "csharp"
    },
    "polyglot_notebook": {
     "kernelName": "csharp"
    }
   },
   "outputs": [
    {
     "data": {
      "text/html": [
       "<div><div></div><div></div><div><strong>Installed Packages</strong><ul><li><span>Microsoft.AspNetCore.ResponseCompression, 2.2.0</span></li><li><span>Microsoft.AspNetCore.Server.IISIntegration, 2.2.1</span></li></ul></div></div>"
      ]
     },
     "metadata": {},
     "output_type": "display_data"
    },
    {
     "ename": "Error",
     "evalue": "(13,22): error CS0234: The type or namespace name 'Builder' does not exist in the namespace 'Microsoft.AspNetCore' (are you missing an assembly reference?)",
     "output_type": "error",
     "traceback": [
      "(13,22): error CS0234: The type or namespace name 'Builder' does not exist in the namespace 'Microsoft.AspNetCore' (are you missing an assembly reference?)"
     ]
    }
   ],
   "source": [
    "#r \"nuget:Microsoft.AspNetCore.App\"\n",
    "#r \"nuget:Microsoft.AspNetCore.ResponseCompression\"\n",
    "#r \"nuget:Microsoft.AspNetCore.Server.IISIntegration\"\n",
    "\n",
    "// using Microsoft.AspNetCore.Builder;\n",
    "// using Microsoft.AspNetCore.ResponseCompression;\n",
    "// using Microsoft.AspNetCore.RequestDecompression;\n",
    "// using Microsoft.AspNetCore.StaticFiles;\n",
    "// using Microsoft.AspNetCore.OutputCaching;\n",
    "// using System.Security;\n",
    "// using Microsoft.AspNetCore.ResponseCaching;\n",
    "// using Microsoft.AspNetCore.HttpsPolicy;\n",
    "// using Microsoft.AspNetCore.Server.Kestrel.Core;\n",
    "// using Microsoft.AspNetCore.Server.IIS.Core;\n",
    "// using Microsoft.AspNetCore.Cors.Infrastructure;\n",
    "\n",
    "Microsoft.AspNetCore.Builder.IISOptions iisOptions = new();\n"
   ]
  },
  {
   "cell_type": "code",
   "execution_count": 11,
   "metadata": {
    "dotnet_interactive": {
     "language": "csharp"
    },
    "polyglot_notebook": {
     "kernelName": "csharp"
    }
   },
   "outputs": [
    {
     "data": {
      "text/html": [
       "<div><div></div><div></div><div><strong>Installed Packages</strong><ul><li><span>Dgmjr.Mime, 0.0.1-local</span></li><li><span>NJsonSchema, 10.9.0</span></li></ul></div></div>"
      ]
     },
     "metadata": {},
     "output_type": "display_data"
    }
   ],
   "source": [
    "#r \"nuget:NJsonSchema,10.9.0\"\n",
    "#r \"nuget:Dgmjr.Mime,0.0.1-Local\"\n",
    "using NJsonSchema;\n"
   ]
  },
  {
   "cell_type": "code",
   "execution_count": 15,
   "metadata": {
    "dotnet_interactive": {
     "language": "csharp"
    },
    "polyglot_notebook": {
     "kernelName": "csharp"
    }
   },
   "outputs": [],
   "source": [
    "using Humanizer;\n",
    "using Dgmjr.Mime;\n",
    "using System;\n",
    "\n",
    "const string _Schema = \"$schema\";\n",
    "const string _Id = \"$id\";\n",
    "const string ContentMediaType = \"contentMediaType\";\n",
    "const string LastModified = \"lastModified\";\n",
    "const string SchemaMimeType = \"application/schema+json\";\n",
    "\n",
    "\n",
    "    protected async Task<JsonSchema> EnsureOtherProperties(JsonSchema schema, Type Type)\n",
    "    {\n",
    "        var schemaUri = \"https://jsonschema.xyz/schemas/\" + Type.Name + \".schema\";\n",
    "        if(!schema.Properties.Any(prop => prop.Key == _Schema))\n",
    "        {\n",
    "            schema.Properties.Add(_Schema, new JsonSchemaProperty { Type = JsonObjectType.String, Format = JsonFormatStrings.Uri, Default = schemaUri, Description = \"The URI of the schema itself (not necessarily the URI of the resource it describes).\" });\n",
    "        }\n",
    "        if(!schema.Properties.Any(prop => prop.Key == ContentMediaType))\n",
    "        {\n",
    "            schema.Properties.Add(ContentMediaType, new JsonSchemaProperty { Type = JsonObjectType.String, Format = JsonFormatStrings.Uri, Default = Application.Json.DisplayName, Description = $\"The content Type of the file (usually \\\"{Application.Json.DisplayName}\\\")\" });\n",
    "        }\n",
    "        if(!schema.Properties.Any(prop => prop.Key == _Id))\n",
    "        {\n",
    "            schema.Properties.Add(_Id, new JsonSchemaProperty { Type = JsonObjectType.String, Format = JsonFormatStrings.Uri, Description = \"The URI of the JSON file itself (not necessarily the URI of the resource it describes).\" });\n",
    "        }\n",
    "        schema.ExtensionData ??= new Dictionary<string, object?>();\n",
    "        schema.ExtensionData[LastModified] = DateTimeOffset.Now.ToString(\"O\");\n",
    "        schema.ExtensionData[ContentMediaType] = SchemaMimeType;\n",
    "        // foreach(var header in Options.Headers)\n",
    "        // {\n",
    "        //     schema.ExtensionData[header.Key.ToLower()] = header.Value;\n",
    "        // }\n",
    "        schema.Title = Type.Name.Humanize(LetterCasing.Title);\n",
    "        schema.Id = schemaUri;\n",
    "        return schema;\n",
    "    }"
   ]
  },
  {
   "cell_type": "code",
   "execution_count": 1,
   "metadata": {
    "dotnet_interactive": {
     "language": "csharp"
    },
    "polyglot_notebook": {
     "kernelName": "csharp"
    }
   },
   "outputs": [
    {
     "data": {
      "text/html": [
       "<div><div></div><div></div><div><strong>Installed Packages</strong><ul><li><span>Dgmjr.AspNetCore.Http.Services, 0.0.1-local</span></li><li><span>NJsonSchema, 10.9.0</span></li></ul></div></div>"
      ]
     },
     "metadata": {},
     "output_type": "display_data"
    },
    {
     "ename": "Error",
     "evalue": "(4,50): error CS0234: The type or namespace name 'HttpServiceOptions' does not exist in the namespace 'Dgmjr.AspNetCore.Http.Services' (are you missing an assembly reference?)\n(6,22): error CS0103: The name 'EnsureOtherProperties' does not exist in the current context",
     "output_type": "error",
     "traceback": [
      "(4,50): error CS0234: The type or namespace name 'HttpServiceOptions' does not exist in the namespace 'Dgmjr.AspNetCore.Http.Services' (are you missing an assembly reference?)\n",
      "(6,22): error CS0103: The name 'EnsureOtherProperties' does not exist in the current context"
     ]
    }
   ],
   "source": [
    "#r \"nuget:NJsonSchema,10.9.0\"\n",
    "#r \"nuget:Dgmjr.AspNetCore.Http.Services,0.0.1-Local\"\n",
    "\n",
    "using System.Text.Json;\n",
    "using NJsonSchema;\n",
    "\n",
    "var type = typeof(Dgmjr.AspNetCore.Http.Services.HttpServiceOptions);\n",
    "\n",
    "var schemaFromType = EnsureOtherProperties(JsonSchema.FromType(type), type);\n",
    "// var schemaFromType = JsonSchema.FromType<MicrosoftIdentityOptions>();\n",
    "var schemaJson = schemaFromType.ToJson();\n",
    "Console.WriteLine(schemaJson);"
   ]
  },
  {
   "cell_type": "code",
   "execution_count": 11,
   "metadata": {
    "dotnet_interactive": {
     "language": "csharp"
    },
    "polyglot_notebook": {
     "kernelName": "csharp"
    }
   },
   "outputs": [],
   "source": []
  },
  {
   "cell_type": "code",
   "execution_count": 12,
   "metadata": {
    "dotnet_interactive": {
     "language": "csharp"
    },
    "polyglot_notebook": {
     "kernelName": "csharp"
    }
   },
   "outputs": [],
   "source": [
    "#nullable enable\n",
    "using System.Text.RegularExpressions;\n",
    "\n",
    "public partial class DidUri(string uriString) : Uri(uriString)\n",
    "{\n",
    "    public const string DidScheme = \"did\";\n",
    "    private const RegexOptions Options = RegexOptions.Compiled | RegexOptions.IgnoreCase;\n",
    "\n",
    "    private const string RegexString = $\"^{DidScheme}:(?<method>[a-z]+):(?<id>[a-zA-Z0-9.]+)$\";\n",
    "    #if !NET7_0_OR_GREATER\n",
    "    private static readonly Regex _regex = new(RegexString, Options);\n",
    "    private static Regex Regex() => _regex;\n",
    "    #else\n",
    "    [GeneratedRegex(RegexString, Options)]\n",
    "    private static partial Regex Regex();\n",
    "    #endif\n",
    "\n",
    "    private string? _uriString;\n",
    "    public string UriString => _uriString ??= ToString();\n",
    "\n",
    "    public DidMethod Method =>\n",
    "        Regex().Match(UriString).Groups[\"method\"].Value switch\n",
    "        {\n",
    "            \"ace\" => DidMethod.Ace,\n",
    "            \"ala\" => DidMethod.Ala,\n",
    "            \"algo\" => DidMethod.Algo,\n",
    "            \"bba\" => DidMethod.Bba,\n",
    "            \"btcr\" => DidMethod.Btcr,\n",
    "            \"ccp\" => DidMethod.Ccp,\n",
    "            \"cheqd\" => DidMethod.Cheqd,\n",
    "            \"com\" => DidMethod.Com,\n",
    "            \"content\" => DidMethod.Content,\n",
    "            \"dns\" => DidMethod.Dns,\n",
    "            \"dock\" => DidMethod.Dock,\n",
    "            \"dyne\" => DidMethod.Dyne,\n",
    "            \"ebsi\" => DidMethod.Ebsi,\n",
    "            \"elem\" => DidMethod.Elem,\n",
    "            \"emtrust\" => DidMethod.Emtrust,\n",
    "            \"ens\" => DidMethod.Ens,\n",
    "            \"eosio\" => DidMethod.Eosio,\n",
    "            \"ethr\" => DidMethod.Ethr,\n",
    "            \"ev\" => DidMethod.Ev,\n",
    "            \"evrc\" => DidMethod.Evrc,\n",
    "            \"evan\" => DidMethod.Evan,\n",
    "            \"factom\" => DidMethod.Factom,\n",
    "            \"gatc\" => DidMethod.Gatc,\n",
    "            \"github\" => DidMethod.Github,\n",
    "            \"hcr\" => DidMethod.Hcr,\n",
    "            \"icon\" => DidMethod.Icon,\n",
    "            \"iid\" => DidMethod.Iid,\n",
    "            \"indy\" => DidMethod.Indy,\n",
    "            \"io\" => DidMethod.Io,\n",
    "            \"ion\" => DidMethod.Ion,\n",
    "            \"iscc\" => DidMethod.Iscc,\n",
    "            \"jolo\" => DidMethod.Jolo,\n",
    "            \"jwk\" => DidMethod.Jwk,\n",
    "            \"key\" => DidMethod.Key,\n",
    "            \"kilt\" => DidMethod.Kilt,\n",
    "            \"kscirc\" => DidMethod.Kscirc,\n",
    "            \"lit\" => DidMethod.Lit,\n",
    "            \"meta\" => DidMethod.Meta,\n",
    "            \"moncon\" => DidMethod.Moncon,\n",
    "            \"none\" => DidMethod.None,\n",
    "            \"orb\" => DidMethod.Orb,\n",
    "            \"oyd\" => DidMethod.Oyd,\n",
    "            \"peer\" => DidMethod.Peer,\n",
    "            \"pdc\" => DidMethod.Pdc,\n",
    "            \"plc\" => DidMethod.Plc,\n",
    "            \"polygonid\" => DidMethod.Polygonid,\n",
    "            \"pkh\" => DidMethod.Pkh,\n",
    "            \"schema\" => DidMethod.Schema,\n",
    "            \"sol\" => DidMethod.Sol,\n",
    "            \"sov\" => DidMethod.Sov,\n",
    "            \"stack\" => DidMethod.Stack,\n",
    "            \"tys\" => DidMethod.Tys,\n",
    "            \"tz\" => DidMethod.Tz,\n",
    "            \"unisot\" => DidMethod.Unisot,\n",
    "            \"v1\" => DidMethod.V1,\n",
    "            \"vaa\" => DidMethod.Vaa,\n",
    "            \"web\" => DidMethod.Web,\n",
    "            _ => throw new ArgumentOutOfRangeException(nameof(Method), $\"Unknown method: {Regex().Match(UriString).Groups[\"method\"].Value}\")\n",
    "        };\n",
    "}\n",
    "\n",
    "public enum DidMethod\n",
    "{\n",
    "    Ace,\n",
    "    Ala,\n",
    "    Algo,\n",
    "    Bba,\n",
    "    Btcr,\n",
    "    Ccp,\n",
    "    Cheqd,\n",
    "    Com,\n",
    "    Content,\n",
    "    Dns,\n",
    "    Dock,\n",
    "    Dyne,\n",
    "    Ebsi,\n",
    "    Elem,\n",
    "    Emtrust,\n",
    "    Ens,\n",
    "    Eosio,\n",
    "    Ethr,\n",
    "    Ev,\n",
    "    Evrc,\n",
    "    Evan,\n",
    "    Factom,\n",
    "    Gatc,\n",
    "    Github,\n",
    "    Hcr,\n",
    "    Icon,\n",
    "    Iid,\n",
    "    Indy,\n",
    "    Io,\n",
    "    Ion,\n",
    "    Iscc,\n",
    "    Jolo,\n",
    "    Jwk,\n",
    "    Key,\n",
    "    Kilt,\n",
    "    Kscirc,\n",
    "    Lit,\n",
    "    Meta,\n",
    "    Moncon,\n",
    "    None,\n",
    "    Orb,\n",
    "    Oyd,\n",
    "    Peer,\n",
    "    Pdc,\n",
    "    Plc,\n",
    "    Polygonid,\n",
    "    Pkh,\n",
    "    Schema,\n",
    "    Sol,\n",
    "    Sov,\n",
    "    Stack,\n",
    "    Tys,\n",
    "    Tz,\n",
    "    Unisot,\n",
    "    V1,\n",
    "    Vaa,\n",
    "    Web,\n",
    "}\n",
    "\n",
    "\n",
    "var uri = new DidUri(\"did:ion:123\");\n",
    "var method = uri.Method;\n",
    "var methodString = uri.ToString().Replace(DidUri.DidScheme + \"\", string.Empty);"
   ]
  },
  {
   "cell_type": "code",
   "execution_count": 13,
   "metadata": {
    "dotnet_interactive": {
     "language": "csharp"
    },
    "polyglot_notebook": {
     "kernelName": "csharp"
    }
   },
   "outputs": [],
   "source": []
  },
  {
   "cell_type": "code",
   "execution_count": 14,
   "metadata": {
    "dotnet_interactive": {
     "language": "csharp"
    },
    "polyglot_notebook": {
     "kernelName": "csharp"
    }
   },
   "outputs": [],
   "source": []
  },
  {
   "cell_type": "code",
   "execution_count": 15,
   "metadata": {
    "dotnet_interactive": {
     "language": "csharp"
    },
    "polyglot_notebook": {
     "kernelName": "csharp"
    }
   },
   "outputs": [],
   "source": [
    "var uri = new DidUri(\"did:ion:123\");\n",
    "var method = uri.Method;"
   ]
  },
  {
   "cell_type": "code",
   "execution_count": 16,
   "metadata": {
    "dotnet_interactive": {
     "language": "csharp"
    },
    "polyglot_notebook": {
     "kernelName": "csharp"
    }
   },
   "outputs": [],
   "source": [
    "using NJsonSchema;"
   ]
  }
 ],
 "metadata": {
  "kernelspec": {
   "display_name": ".NET (C#)",
   "language": "C#",
   "name": ".net-csharp"
  },
  "language_info": {
   "name": "polyglot-notebook"
  },
  "polyglot_notebook": {
   "kernelInfo": {
    "defaultKernelName": "csharp",
    "items": [
     {
      "aliases": [],
      "languageName": "csharp",
      "name": "csharp"
     }
    ]
   }
  }
 },
 "nbformat": 4,
 "nbformat_minor": 2
}
